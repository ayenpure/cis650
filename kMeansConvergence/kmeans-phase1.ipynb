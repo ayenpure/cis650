{
 "cells": [
  {
   "cell_type": "markdown",
   "metadata": {},
   "source": [
    "<center>\n",
    "<h1>K-MEANS</h1>\n",
    "</center>"
   ]
  },
  {
   "cell_type": "code",
   "execution_count": 7,
   "metadata": {
    "collapsed": true
   },
   "outputs": [],
   "source": [
    "import sys\n",
    "import os\n",
    "import math\n",
    "import operator\n",
    "from multiprocessing import Pool,current_process,cpu_count,active_children\n",
    "from timeit import default_timer as timer\n",
    "from functools import partial"
   ]
  },
  {
   "cell_type": "code",
   "execution_count": 8,
   "metadata": {},
   "outputs": [
    {
     "data": {
      "text/plain": [
       "'2.7.13 |Anaconda 4.4.0 (64-bit)| (default, Dec 20 2016, 23:09:15) \\n[GCC 4.4.7 20120313 (Red Hat 4.4.7-1)]'"
      ]
     },
     "execution_count": 8,
     "metadata": {},
     "output_type": "execute_result"
    }
   ],
   "source": [
    "sys.version  # 2.7.13 - if higher version then packages may not work"
   ]
  },
  {
   "cell_type": "markdown",
   "metadata": {},
   "source": [
    "# Alternative ingest functions\n",
    "\n",
    "Store points in variable `batch` as dictionary. key is point-id (number) and value is the vector."
   ]
  },
  {
   "cell_type": "code",
   "execution_count": 39,
   "metadata": {},
   "outputs": [
    {
     "name": "stdout",
     "output_type": "stream",
     "text": [
      "Total points: 4338\n",
      "First line: (0, [7.52, 1.0, 11.0, 0.0074, 7.0])\n"
     ]
    }
   ],
   "source": [
    "# 5 columns: 7.52\t1\t11\t0.0074\t7\t1\n",
    "# Strip off Unqiue_Key. Produce dict with line numbers as key and 5d vector as value. No empties.\n",
    "def readBoyanaFile(fname):\n",
    "    fid = open(fname,'r')\n",
    "    data = fid.readlines()\n",
    "    l = map(lambda line : map(float, line.rstrip().split())[:-1],data)\n",
    "    return {i:v for i,v in enumerate(l)}\n",
    "\n",
    "# Read in data\n",
    "my_dir = os.path.expanduser(\"./\")\n",
    "my_fname = \"N_combinedLogs_hourly.txt\"\n",
    "batch = readBoyanaFile(my_dir+my_fname) #one big batch as dictionary\n",
    "print('Total points: ' + str(len(batch)) )  # 4338\n",
    "print('First line: {}'.format(batch.items()[0]))  # (0, [7.52, 1.0, 11.0, 0.0074, 7.0])"
   ]
  },
  {
   "cell_type": "code",
   "execution_count": 11,
   "metadata": {},
   "outputs": [
    {
     "name": "stdout",
     "output_type": "stream",
     "text": [
      "Total points: 2049280\n",
      "First line: (0, [4.216, 0.418, 234.84, 18.4, 0.0, 1.0, 17.0])\n"
     ]
    }
   ],
   "source": [
    "# https://archive.ics.uci.edu/ml/datasets/Individual+household+electric+power+consumption\n",
    "# 9 columns: 16/12/2006;17:24:00;4.216;0.418;234.840;18.400;0.000;1.000;17.000\n",
    "# Strip off first 2 and float others. Skip lines with ? (empties)\n",
    "def readElectricFile(fname):\n",
    "    fid = open(fname,'r')\n",
    "    data = fid.readlines()[1:]\n",
    "    data = filter(lambda x : \"?\" not in x, data)\n",
    "    l = map(lambda line : map(float, (line.rstrip().split(';'))[2:]),data)\n",
    "    return {i:v for i,v in enumerate(l)}\n",
    "\n",
    "# Read in data\n",
    "my_dir = os.path.expanduser(\"./\")\n",
    "my_fname = \"household_power_consumption.txt\"\n",
    "batch = readElectricFile(my_dir+my_fname) #one big batch as dictionary\n",
    "print('Total points: ' + str(len(batch)) )  # 2049280\n",
    "print('First line: {}'.format(batch.items()[0]))  # (0, [4.216, 0.418, 234.84, 18.4, 0.0, 1.0, 17.0])"
   ]
  },
  {
   "cell_type": "markdown",
   "metadata": {},
   "source": [
    "# Choose k and starting k centers\n",
    "\n",
    "Google around for different strategies for choosing k and choosing starting center values.\n",
    "\n",
    "But first use my choices to make sure you get the same result."
   ]
  },
  {
   "cell_type": "code",
   "execution_count": 12,
   "metadata": {},
   "outputs": [
    {
     "data": {
      "text/plain": [
       "{1: [1.318, 0.066, 244.14, 5.4, 0.0, 0.0, 19.0],\n",
       " 2: [2.228, 0.072, 240.04, 9.2, 0.0, 0.0, 18.0],\n",
       " 3: [0.384, 0.188, 238.91, 1.8, 0.0, 0.0, 0.0]}"
      ]
     },
     "execution_count": 12,
     "metadata": {},
     "output_type": "execute_result"
    }
   ],
   "source": [
    "k = 3\n",
    "\n",
    "blen = len(batch)\n",
    "\n",
    "initial_C = {1: batch[blen/2], 2: batch[blen/3], 3: batch[blen/5]}  # keep this to reset to\n",
    "\n",
    "C = initial_C\n",
    "\n",
    "# Boyana - converged to 0 changes in 25 iterations (total time .76 seconds with 4 core)\n",
    "'''{1: [20.0, 5.0, 3.0, 0.0, 0.0],\n",
    "    2: [17.0, 4.0, 8.0, 0.0847, 80.0],\n",
    "    3: [22.0, 3.0, 1.0, 0.5874, 558.0]}\n",
    "'''\n",
    "# Electric - converged to 0 changes in 13 iterations (total time 273 seconds with 4 core)\n",
    "'''{1: [1.318, 0.066, 244.14, 5.4, 0.0, 0.0, 19.0],\n",
    "    2: [2.228, 0.072, 240.04, 9.2, 0.0, 0.0, 18.0],\n",
    "    3: [0.384, 0.188, 238.91, 1.8, 0.0, 0.0, 0.0]}\n",
    "'''\n",
    "\n",
    "C"
   ]
  },
  {
   "cell_type": "markdown",
   "metadata": {},
   "source": [
    "# Functions for first phase\n",
    "\n",
    "Assign each point to closest center using euclidean distance.\n",
    "\n",
    "Note possibility of parallelization of summing: https://stackoverflow.com/a/29785751.\n",
    "\n",
    "Probably can use similar strategy for taking minimum. Break into chunks and have each core min its chunk."
   ]
  },
  {
   "cell_type": "code",
   "execution_count": 13,
   "metadata": {
    "collapsed": true
   },
   "outputs": [],
   "source": [
    "# thought problem: do we need the sqrt? en.wikipedia.org/wiki/Euclidean_distance#Squared_Euclidean_distance\n",
    "def euclidean_distance(vec1, vec2):\n",
    "    zipped = zip(vec1, vec2)\n",
    "    sqdiff = map(lambda pair: (pair[0] - pair[1])**2, zipped)\n",
    "    summation = sum(sqdiff)\n",
    "    return math.sqrt(summation) #test this function"
   ]
  },
  {
   "cell_type": "code",
   "execution_count": 14,
   "metadata": {
    "collapsed": true
   },
   "outputs": [],
   "source": [
    "#Given a point tuple, find the closest center. Return its id.\n",
    "def compute_center(point, all_centers):\n",
    "    value = point[1]\n",
    "    centers_list = all_centers.items()\n",
    "    distances = map(lambda pair: (pair[0], euclidean_distance(value, pair[1])), centers_list)\n",
    "    tup = min(distances, key=lambda t: t[1])\n",
    "    return tup[0]"
   ]
  },
  {
   "cell_type": "code",
   "execution_count": 15,
   "metadata": {},
   "outputs": [
    {
     "data": {
      "text/plain": [
       "2"
      ]
     },
     "execution_count": 15,
     "metadata": {},
     "output_type": "execute_result"
    }
   ],
   "source": [
    "# do a test\n",
    "compute_center(batch.items()[0], C)"
   ]
  },
  {
   "cell_type": "markdown",
   "metadata": {},
   "source": [
    "# Phase 1 test loop"
   ]
  },
  {
   "cell_type": "code",
   "execution_count": 16,
   "metadata": {},
   "outputs": [
    {
     "name": "stdout",
     "output_type": "stream",
     "text": [
      "Total cores available: 4\n",
      "Total cores used: 4\n"
     ]
    }
   ],
   "source": [
    "# number of workers\n",
    "processors = cpu_count()\n",
    "print(\"Total cores available: {}\".format(processors))\n",
    "\n",
    "#N = processors  # change this to experient with different times\n",
    "\n",
    "N = 4\n",
    "print(\"Total cores used: {}\".format(N))\n",
    "\n",
    "# This function called when set up pool of processors. For now, just prints debugging info.\n",
    "def start_process():\n",
    "    #print( 'Starting {} with pid {}'.format(current_process().name,current_process().pid)) #delayed print from when pool initialized\n",
    "    return\n",
    "\n",
    "# Start a pool of N workers\n",
    "pool = Pool(processes=N,\n",
    "            initializer=start_process\n",
    "           )"
   ]
  },
  {
   "cell_type": "code",
   "execution_count": 17,
   "metadata": {},
   "outputs": [
    {
     "name": "stdout",
     "output_type": "stream",
     "text": [
      "========= Starting iteration 0\n",
      "time of part 1: 31.834143877\n"
     ]
    }
   ],
   "source": [
    "iterations = 1  # just for testing\n",
    "total_time = 0\n",
    "for i in range(iterations):\n",
    "    print(\"========= Starting iteration \" + str(i))\n",
    "\n",
    "\n",
    "    # assign points to centers 2D\n",
    "    start = timer()\n",
    "    partial_compute = partial(compute_center, all_centers = C) #moved this inside loop b/c gets updated after each iteration\n",
    "\n",
    "    new_p_to_c_map = pool.map(partial_compute, batch.items())\n",
    "\n",
    "    end = timer()\n",
    "\n",
    "    t = end - start\n",
    "    total_time += t\n",
    "    print( \"time of part 1: \" + str(t))\n",
    "    \n",
    "pool.close() # no more tasks\n",
    "pool.join()  # wrap up current tasks"
   ]
  },
  {
   "cell_type": "code",
   "execution_count": 172,
   "metadata": {
    "scrolled": true
   },
   "outputs": [
    {
     "name": "stdout",
     "output_type": "stream",
     "text": [
      "{1: [11.506257848472165, 5.915027208036835, 8.490581833403098, 0.004166429468396858, 1.8522394307241523], 2: [12.106736111111111, 4.895833333333333, 8.45138888888889, 0.140497619047619, 132.7123015873016], 3: [10.60104144527099, 5.207226354941551, 10.193411264612115, 0.8035047821466521, 762.230605738576]}\n"
     ]
    }
   ],
   "source": [
    "mymap = {}\n",
    "for i,j in zip (new_p_to_c_map, batch.values()):\n",
    "    mymap.setdefault(i, []).append(j)\n",
    "newCenters = {}\n",
    "for i in mymap.keys():\n",
    "    newCenters[i] = map(lambda x: x/len(mymap.get(i)), reduce(lambda first, second : map(operator.add, first,second), mymap.get(i)))\n",
    "print newCenters"
   ]
  },
  {
   "cell_type": "markdown",
   "metadata": {},
   "source": [
    "# Functions for second phase\n",
    "\n",
    "You now have points mapped to centers. In particular, `new_p_to_c_map` is a list of center-ids *e.g., 1,2,3. The value of\n",
    "`new_p_to_c_map[0]` is the center-id that goes with point 0.\n",
    "\n",
    "Now we need to recompute mean for all k centers."
   ]
  },
  {
   "cell_type": "code",
   "execution_count": 18,
   "metadata": {
    "collapsed": true
   },
   "outputs": [],
   "source": [
    "# your functions go here\n",
    "def recompute_centers(pool,clustermapping, items):\n",
    "    mymap = {}\n",
    "    for i,j in zip (new_p_to_c_map, batch.values()):\n",
    "        mymap.setdefault(i, []).append(j)\n",
    "    newCenters = {}\n",
    "    for i in mymap.keys():\n",
    "        newCenters[i] = map(lambda x: x/len(mymap.get(i)), reduce(lambda first, second : map(operator.add, first,second), mymap.get(i)))\n",
    "    return newCenters"
   ]
  },
  {
   "cell_type": "markdown",
   "metadata": {},
   "source": [
    "# Ready to start clustering\n",
    "\n",
    "Do set-up first. You can rerun some of these cells to try new experiments."
   ]
  },
  {
   "cell_type": "code",
   "execution_count": 19,
   "metadata": {},
   "outputs": [
    {
     "name": "stdout",
     "output_type": "stream",
     "text": [
      "Total cores available: 4\n",
      "Total cores used: 4\n"
     ]
    }
   ],
   "source": [
    "# number of workers\n",
    "processors = cpu_count()\n",
    "print(\"Total cores available: {}\".format(processors))\n",
    "\n",
    "#N = processors  # change this to experient with different times\n",
    "\n",
    "N = 4\n",
    "print(\"Total cores used: {}\".format(N))"
   ]
  },
  {
   "cell_type": "code",
   "execution_count": 20,
   "metadata": {},
   "outputs": [
    {
     "name": "stdout",
     "output_type": "stream",
     "text": [
      "Number of iterations: 50\n"
     ]
    }
   ],
   "source": [
    "iterations = 50\n",
    "print(\"Number of iterations: {}\".format(iterations))"
   ]
  },
  {
   "cell_type": "code",
   "execution_count": 21,
   "metadata": {
    "collapsed": true
   },
   "outputs": [],
   "source": [
    "# Use this to reset before each new run\n",
    "p_to_c_map = [-1]*len(batch)  # -1 is not a center-id so changes on first iter will be maximum.\n",
    "C = initial_C  # reset C to starting center values"
   ]
  },
  {
   "cell_type": "markdown",
   "metadata": {},
   "source": [
    "# Main loop\n",
    "\n",
    "Will stop either after so many interations or when changes to `p_to_c_map` become 0, i.e., no points changed allegiance during the current iteration."
   ]
  },
  {
   "cell_type": "code",
   "execution_count": 22,
   "metadata": {
    "scrolled": false
   },
   "outputs": [
    {
     "name": "stdout",
     "output_type": "stream",
     "text": [
      "Starting iteration 0\n",
      "{1: [1.4497562393286823, 0.10861628842330877, 242.90729854843494, 5.940587163772711, 0.0790600397531774, 0.32897051725838006, 18.030463596780304], 2: [2.2385820465199653, 0.14865308594118967, 238.31787271300357, 9.424162197293814, 2.7802128714112424, 2.6380279598633827, 17.76567559384335], 3: [0.5955651322584773, 0.11622443653582878, 241.5194598456877, 2.5799906132914843, 0.6294775578411165, 0.9190515835589084, 0.41020296518397503]}\n",
      "Starting iteration 1\n",
      "{1: [1.5130030183376075, 0.117515715148096, 241.36412109472218, 6.248577422833912, 0.07906807588397707, 0.32529020574176887, 17.862368751793685], 2: [2.742941058801423, 0.166326156327682, 237.1523329766483, 11.607812256899104, 5.249332414642742, 4.626403040569503, 17.36282668817334], 3: [0.5725779062852193, 0.11550885431116183, 241.55365172018514, 2.4825515752833653, 0.46156390703856653, 0.8063087953701219, 0.4112362355024986]}\n",
      "Starting iteration 2\n",
      "{1: [1.6443863201282785, 0.12543421692566187, 240.21270155046824, 6.835736336510407, 0.10422710104685856, 0.37768656330303707, 17.907359053515684], 2: [3.6407765080855223, 0.19248220440535313, 236.88313093752248, 15.455448626879088, 13.222645681742375, 10.394196202453458, 14.286329326596414], 3: [0.5308686358364404, 0.1144374435970809, 241.60786674531886, 2.3080198477176808, 0.07497499151087984, 0.5806856455861164, 0.41227450296583856]}\n",
      "Starting iteration 3\n",
      "{1: [1.787521170746827, 0.13104961507025836, 239.83129708483514, 7.457901218229848, 0.13676721285953372, 0.42338691472385476, 17.87922936208306], 2: [3.8627244073757363, 0.19767930116879529, 237.40736527846957, 16.41500907389808, 20.157556723617525, 16.877272000677017, 11.415029760505506], 3: [0.5213403967071781, 0.11404388569638389, 241.61862267284658, 2.266219285472985, 0.05193732767648312, 0.4568624164427967, 0.4128183323773687]}\n",
      "Starting iteration 4\n",
      "{1: [1.8010243597134497, 0.1318914896700242, 239.81753603396578, 7.518951924943773, 0.1867089875966172, 0.5248668863901932, 17.8800651771097], 2: [3.921676409396689, 0.196130486597856, 237.33286030258378, 16.645001716928828, 21.25430747167067, 17.326630577494093, 11.092532369159917], 3: [0.5227603989635179, 0.11413023636036224, 241.61616230223197, 2.272626792833479, 0.05650398133948794, 0.464802561825239, 0.413469251028756]}\n",
      "Starting iteration 5\n",
      "{1: [1.8034127214745048, 0.13203941293080054, 239.81520580669266, 7.5296415775014, 0.1930661068495512, 0.5515948015809498, 17.8802698326705], 2: [3.9393155802943722, 0.19578250644429307, 237.30892578024745, 16.71551251373575, 21.55982664599016, 17.297464389512495, 11.082158298501637], 3: [0.5235101365333308, 0.11417157347232333, 241.6151561968753, 2.2759344202887877, 0.05709541987957035, 0.4748485413974048, 0.41362386353251607]}\n",
      "Starting iteration 6\n",
      "{1: [1.8040055045560415, 0.1320709776971731, 239.81461915028268, 7.532250575762239, 0.19340868636799297, 0.5605862706093935, 17.880208982364806], 2: [3.945270172903265, 0.1957413780645181, 237.30062400000065, 16.739854451612803, 21.666890322580645, 17.267323870967743, 11.088144516129033], 3: [0.5238111606434791, 0.11418636699382848, 241.6147944407475, 2.2772498115029975, 0.057154571797561116, 0.47901947023874425, 0.4136538907461467]}\n",
      "Starting iteration 7\n",
      "{1: [1.8042199015856712, 0.1320861701653205, 239.81442636545205, 7.533201970745648, 0.1934075670387581, 0.5641269387133542, 17.880189322098293], 2: [3.947526160656149, 0.1957025369475979, 237.29799929672947, 16.74903765603823, 21.708090721990672, 17.253756812940193, 11.090163510564581], 3: [0.5239197638349501, 0.1141917879737334, 241.6146170306191, 2.2777248019177887, 0.05713868926970088, 0.48062465450525155, 0.4136539524599226]}\n",
      "Starting iteration 8\n",
      "{1: [1.804295322267003, 0.1320905337894472, 239.81437679962846, 7.533532571244977, 0.19343253186986267, 0.565307070433627, 17.8801619333563], 2: [3.948262884464168, 0.19569551268783528, 237.2967288984567, 16.75207807260828, 21.721954298960963, 17.24943080680548, 11.09100881732003], 3: [0.5239586536126812, 0.11419359266893434, 241.61457560340574, 2.277892957280784, 0.057141299707948054, 0.481165566737402, 0.4136519698919316]}\n",
      "Starting iteration 9\n",
      "{1: [1.8043444300206686, 0.13209247820550868, 239.81435671617865, 7.533747792863792, 0.19343273389483268, 0.565989504186636, 17.880153315163557], 2: [3.948596788720183, 0.19569955588683038, 237.29596136526072, 16.753443688727316, 21.728873567502095, 17.247171237201982, 11.090862035052849], 3: [0.5239712173102627, 0.11419398718946, 241.61456742668696, 2.2779480376116448, 0.05714158488283089, 0.48139029065986755, 0.413653082987657]}\n",
      "Starting iteration 10\n",
      "{1: [1.8043535916870068, 0.1320921884805256, 239.8143433543601, 7.533789112966948, 0.1934330819111368, 0.5661244478350211, 17.880149438299025], 2: [3.9487220640459233, 0.19570294138962965, 237.2958271817128, 16.75395446592184, 21.731112882686077, 17.246441032437076, 11.09125451665338], 3: [0.5239797147845502, 0.11419445154605723, 241.61455641929396, 2.2779845300488524, 0.05714132166369167, 0.48150553732174045, 0.41365424847891596]}\n",
      "Starting iteration 11\n",
      "{1: [1.804359638248393, 0.13209289570421026, 239.81433077505517, 7.533815771259048, 0.19343248688804465, 0.5661888429180061, 17.880148268914283], 2: [3.948765476326099, 0.1957012724806659, 237.29583674145647, 16.754130644109136, 21.732012880113476, 17.246150978950748, 11.091351480074133], 3: [0.5239820287792469, 0.11419444510557417, 241.61455149109452, 2.2779945444523464, 0.0571412339245175, 0.481546255854965, 0.41365361332241096]}\n",
      "Starting iteration 12\n",
      "{1: [1.8043628362955615, 0.13209383363172572, 239.81433079249427, 7.533830432561683, 0.1934380440867955, 0.5662516995502729, 17.880140947318555], 2: [3.948797722095709, 0.1956915096293244, 237.29577345206144, 16.754255539449083, 21.732646510664733, 17.24602402153655, 11.091364671774695], 3: [0.5239839634923366, 0.11419486107018675, 241.61454899245223, 2.2780032367840706, 0.057141190055031446, 0.48156277638561323, 0.4136540634827044]}\n",
      "Starting iteration 13\n",
      "{1: [1.8043628362955615, 0.13209383363172572, 239.81433079249427, 7.533830432561683, 0.1934380440867955, 0.5662516995502729, 17.880140947318555], 2: [3.948797722095709, 0.1956915096293244, 237.29577345206144, 16.754255539449083, 21.732646510664733, 17.24602402153655, 11.091364671774695], 3: [0.5239839634923366, 0.11419486107018675, 241.61454899245223, 2.2780032367840706, 0.057141190055031446, 0.48156277638561323, 0.4136540634827044]}\n",
      "Total time: 605.105850697\n"
     ]
    }
   ],
   "source": [
    "# Start a pool of N workers\n",
    "pool = Pool(processes=N,\n",
    "            initializer=start_process,\n",
    "           )\n",
    "\n",
    "total_time = 0\n",
    "for i in range(iterations):\n",
    "    print(\"Starting iteration \" + str(i))\n",
    "    \n",
    "    # assign points to centers 2D\n",
    "    start = timer()\n",
    "\n",
    "    partial_compute = partial(compute_center, all_centers = C) #moved this inside loop b/c gets updated after each iteration\n",
    "    new_p_to_c_map = pool.map(partial_compute, batch.items())\n",
    "\n",
    "    end = timer()\n",
    "\n",
    "    t = end - start\n",
    "    total_time += t\n",
    "    #print( \"time of part 1: \" + str(t))\n",
    "    start = timer()\n",
    "    new_C = recompute_centers(pool,new_p_to_c_map, batch.values())  # compute new values of centers\n",
    "    print new_C\n",
    "    end = timer()\n",
    "    t = end - start\n",
    "    total_time += t\n",
    "    #print( \"time of part 2: \" + str(t))\n",
    "    iterdiff = []\n",
    "    for tup in zip(C.values(), new_C.values()):\n",
    "        #print(tup[0])\n",
    "        #print(tup[1])\n",
    "        diff = map( lambda pair : pair[0] == pair[1], zip(tup[0], tup[1]))\n",
    "        iterdiff.append(reduce( lambda a,b : a and b, diff));\n",
    "        #print(\"-----------\")\n",
    "    #print iterdiff\n",
    "    unchanged_centers = reduce( lambda a,b : a and b, iterdiff)  # hoping value is 0\n",
    "    #print('Changes: {}'.format(unchanged_centers))\n",
    "\n",
    "    C = new_C  # update centers with new values\n",
    "    p_to_c_map = new_p_to_c_map  #update map\n",
    "    \n",
    "    if unchanged_centers == True:\n",
    "          break  # last iteration caused no allegiance changes\n",
    "    \n",
    "pool.close() # no more tasks\n",
    "pool.join()  # wrap up current tasks\n",
    "print(\"Total time: \" + str(total_time))"
   ]
  },
  {
   "cell_type": "code",
   "execution_count": null,
   "metadata": {
    "collapsed": true
   },
   "outputs": [],
   "source": []
  }
 ],
 "metadata": {
  "kernelspec": {
   "display_name": "Python 2",
   "language": "python",
   "name": "python2"
  },
  "language_info": {
   "codemirror_mode": {
    "name": "ipython",
    "version": 2
   },
   "file_extension": ".py",
   "mimetype": "text/x-python",
   "name": "python",
   "nbconvert_exporter": "python",
   "pygments_lexer": "ipython2",
   "version": "2.7.13"
  }
 },
 "nbformat": 4,
 "nbformat_minor": 1
}
