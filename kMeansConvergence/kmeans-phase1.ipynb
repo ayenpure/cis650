{
 "cells": [
  {
   "cell_type": "markdown",
   "metadata": {},
   "source": [
    "<center>\n",
    "<h1>K-MEANS</h1>\n",
    "</center>"
   ]
  },
  {
   "cell_type": "code",
   "execution_count": 37,
   "metadata": {},
   "outputs": [],
   "source": [
    "import sys\n",
    "import os\n",
    "import math\n",
    "import operator\n",
    "from multiprocessing import Pool,current_process,cpu_count,active_children\n",
    "from timeit import default_timer as timer\n",
    "from functools import partial"
   ]
  },
  {
   "cell_type": "code",
   "execution_count": 38,
   "metadata": {},
   "outputs": [
    {
     "data": {
      "text/plain": [
       "'2.7.12 (default, Nov 19 2016, 06:48:10) \\n[GCC 5.4.0 20160609]'"
      ]
     },
     "execution_count": 38,
     "metadata": {},
     "output_type": "execute_result"
    }
   ],
   "source": [
    "sys.version  # 2.7.13 - if higher version then packages may not work"
   ]
  },
  {
   "cell_type": "markdown",
   "metadata": {},
   "source": [
    "# Alternative ingest functions\n",
    "\n",
    "Store points in variable `batch` as dictionary. key is point-id (number) and value is the vector."
   ]
  },
  {
   "cell_type": "code",
   "execution_count": 39,
   "metadata": {},
   "outputs": [
    {
     "name": "stdout",
     "output_type": "stream",
     "text": [
      "Total points: 4338\n",
      "First line: (0, [7.52, 1.0, 11.0, 0.0074, 7.0])\n"
     ]
    }
   ],
   "source": [
    "# 5 columns: 7.52\t1\t11\t0.0074\t7\t1\n",
    "# Strip off Unqiue_Key. Produce dict with line numbers as key and 5d vector as value. No empties.\n",
    "def readBoyanaFile(fname):\n",
    "    fid = open(fname,'r')\n",
    "    data = fid.readlines()\n",
    "    l = map(lambda line : map(float, line.rstrip().split())[:-1],data)\n",
    "    return {i:v for i,v in enumerate(l)}\n",
    "\n",
    "# Read in data\n",
    "my_dir = os.path.expanduser(\"./\")\n",
    "my_fname = \"N_combinedLogs_hourly.txt\"\n",
    "batch = readBoyanaFile(my_dir+my_fname) #one big batch as dictionary\n",
    "print('Total points: ' + str(len(batch)) )  # 4338\n",
    "print('First line: {}'.format(batch.items()[0]))  # (0, [7.52, 1.0, 11.0, 0.0074, 7.0])"
   ]
  },
  {
   "cell_type": "code",
   "execution_count": 165,
   "metadata": {},
   "outputs": [
    {
     "ename": "IndentationError",
     "evalue": "expected an indented block (<ipython-input-165-2aa36dec9daa>, line 9)",
     "output_type": "error",
     "traceback": [
      "\u001b[0;36m  File \u001b[0;32m\"<ipython-input-165-2aa36dec9daa>\"\u001b[0;36m, line \u001b[0;32m9\u001b[0m\n\u001b[0;31m    my_dir = os.path.expanduser(\"~/Dropbox/winter650_2017/homework/\")\u001b[0m\n\u001b[0m         ^\u001b[0m\n\u001b[0;31mIndentationError\u001b[0m\u001b[0;31m:\u001b[0m expected an indented block\n"
     ]
    }
   ],
   "source": [
    "# https://archive.ics.uci.edu/ml/datasets/Individual+household+electric+power+consumption\n",
    "# 9 columns: 16/12/2006;17:24:00;4.216;0.418;234.840;18.400;0.000;1.000;17.000\n",
    "# Strip off first 2 and float others. Skip lines with ? (empties)\n",
    "def readElectricFile(fname):\n",
    "\n",
    "\n",
    "\n",
    "# Read in data\n",
    "my_dir = os.path.expanduser(\"~/Dropbox/winter650_2017/homework/\")\n",
    "my_fname = \"household_power_consumption.txt\"\n",
    "batch = readElectricFile(my_dir+my_fname) #one big batch as dictionary\n",
    "print('Total points: ' + str(len(batch)) )  # 2049280\n",
    "print('First line: {}'.format(batch.items()[0]))  # (0, [4.216, 0.418, 234.84, 18.4, 0.0, 1.0, 17.0])"
   ]
  },
  {
   "cell_type": "markdown",
   "metadata": {},
   "source": [
    "# Choose k and starting k centers\n",
    "\n",
    "Google around for different strategies for choosing k and choosing starting center values.\n",
    "\n",
    "But first use my choices to make sure you get the same result."
   ]
  },
  {
   "cell_type": "code",
   "execution_count": 40,
   "metadata": {},
   "outputs": [
    {
     "data": {
      "text/plain": [
       "{1: [20.0, 5.0, 3.0, 0.0, 0.0],\n",
       " 2: [17.0, 4.0, 8.0, 0.0847, 80.0],\n",
       " 3: [22.0, 3.0, 1.0, 0.5874, 558.0]}"
      ]
     },
     "execution_count": 40,
     "metadata": {},
     "output_type": "execute_result"
    }
   ],
   "source": [
    "k = 3\n",
    "\n",
    "blen = len(batch)\n",
    "\n",
    "initial_C = {1: batch[blen/2], 2: batch[blen/3], 3: batch[blen/5]}  # keep this to reset to\n",
    "\n",
    "C = initial_C\n",
    "\n",
    "# Boyana - converged to 0 changes in 25 iterations (total time .76 seconds with 4 core)\n",
    "'''{1: [20.0, 5.0, 3.0, 0.0, 0.0],\n",
    "    2: [17.0, 4.0, 8.0, 0.0847, 80.0],\n",
    "    3: [22.0, 3.0, 1.0, 0.5874, 558.0]}\n",
    "'''\n",
    "# Electric - converged to 0 changes in 13 iterations (total time 273 seconds with 4 core)\n",
    "'''{1: [1.318, 0.066, 244.14, 5.4, 0.0, 0.0, 19.0],\n",
    "    2: [2.228, 0.072, 240.04, 9.2, 0.0, 0.0, 18.0],\n",
    "    3: [0.384, 0.188, 238.91, 1.8, 0.0, 0.0, 0.0]}\n",
    "'''\n",
    "\n",
    "C"
   ]
  },
  {
   "cell_type": "markdown",
   "metadata": {},
   "source": [
    "# Functions for first phase\n",
    "\n",
    "Assign each point to closest center using euclidean distance.\n",
    "\n",
    "Note possibility of parallelization of summing: https://stackoverflow.com/a/29785751.\n",
    "\n",
    "Probably can use similar strategy for taking minimum. Break into chunks and have each core min its chunk."
   ]
  },
  {
   "cell_type": "code",
   "execution_count": 41,
   "metadata": {},
   "outputs": [],
   "source": [
    "# thought problem: do we need the sqrt? en.wikipedia.org/wiki/Euclidean_distance#Squared_Euclidean_distance\n",
    "def euclidean_distance(vec1, vec2):\n",
    "    zipped = zip(vec1, vec2)\n",
    "    sqdiff = map(lambda pair: (pair[0] - pair[1])**2, zipped)\n",
    "    summation = sum(sqdiff)\n",
    "    return math.sqrt(summation) #test this function"
   ]
  },
  {
   "cell_type": "code",
   "execution_count": 42,
   "metadata": {},
   "outputs": [],
   "source": [
    "#Given a point tuple, find the closest center. Return its id.\n",
    "def compute_center(point, all_centers):\n",
    "    value = point[1]\n",
    "    centers_list = all_centers.items()\n",
    "    distances = map(lambda pair: (pair[0], euclidean_distance(value, pair[1])), centers_list)\n",
    "    tup = min(distances, key=lambda t: t[1])\n",
    "    return tup[0]"
   ]
  },
  {
   "cell_type": "code",
   "execution_count": 43,
   "metadata": {},
   "outputs": [
    {
     "data": {
      "text/plain": [
       "1"
      ]
     },
     "execution_count": 43,
     "metadata": {},
     "output_type": "execute_result"
    }
   ],
   "source": [
    "# do a test\n",
    "compute_center(batch.items()[0], C)"
   ]
  },
  {
   "cell_type": "markdown",
   "metadata": {},
   "source": [
    "# Phase 1 test loop"
   ]
  },
  {
   "cell_type": "code",
   "execution_count": 44,
   "metadata": {},
   "outputs": [
    {
     "name": "stdout",
     "output_type": "stream",
     "text": [
      "Total cores available: 8\n",
      "Total cores used: 4\n"
     ]
    }
   ],
   "source": [
    "# number of workers\n",
    "processors = cpu_count()\n",
    "print(\"Total cores available: {}\".format(processors))\n",
    "\n",
    "#N = processors  # change this to experient with different times\n",
    "\n",
    "N = 4\n",
    "print(\"Total cores used: {}\".format(N))\n",
    "\n",
    "# This function called when set up pool of processors. For now, just prints debugging info.\n",
    "def start_process():\n",
    "    #print( 'Starting {} with pid {}'.format(current_process().name,current_process().pid)) #delayed print from when pool initialized\n",
    "    return\n",
    "\n",
    "# Start a pool of N workers\n",
    "pool = Pool(processes=N,\n",
    "            initializer=start_process\n",
    "           )"
   ]
  },
  {
   "cell_type": "code",
   "execution_count": 45,
   "metadata": {},
   "outputs": [
    {
     "name": "stdout",
     "output_type": "stream",
     "text": [
      "========= Starting iteration 0\n",
      "time of part 1: 0.0409071445465\n"
     ]
    }
   ],
   "source": [
    "iterations = 1  # just for testing\n",
    "total_time = 0\n",
    "for i in range(iterations):\n",
    "    print(\"========= Starting iteration \" + str(i))\n",
    "\n",
    "\n",
    "    # assign points to centers 2D\n",
    "    start = timer()\n",
    "    partial_compute = partial(compute_center, all_centers = C) #moved this inside loop b/c gets updated after each iteration\n",
    "\n",
    "    new_p_to_c_map = pool.map(partial_compute, batch.items())\n",
    "\n",
    "    end = timer()\n",
    "\n",
    "    t = end - start\n",
    "    total_time += t\n",
    "    print( \"time of part 1: \" + str(t))\n",
    "    \n",
    "pool.close() # no more tasks\n",
    "pool.join()  # wrap up current tasks"
   ]
  },
  {
   "cell_type": "code",
   "execution_count": 172,
   "metadata": {
    "scrolled": true
   },
   "outputs": [
    {
     "name": "stdout",
     "output_type": "stream",
     "text": [
      "{1: [11.506257848472165, 5.915027208036835, 8.490581833403098, 0.004166429468396858, 1.8522394307241523], 2: [12.106736111111111, 4.895833333333333, 8.45138888888889, 0.140497619047619, 132.7123015873016], 3: [10.60104144527099, 5.207226354941551, 10.193411264612115, 0.8035047821466521, 762.230605738576]}\n"
     ]
    }
   ],
   "source": [
    "mymap = {}\n",
    "for i,j in zip (new_p_to_c_map, batch.values()):\n",
    "    mymap.setdefault(i, []).append(j)\n",
    "newCenters = {}\n",
    "for i in mymap.keys():\n",
    "    newCenters[i] = map(lambda x: x/len(mymap.get(i)), reduce(lambda first, second : map(operator.add, first,second), mymap.get(i)))\n",
    "print newCenters"
   ]
  },
  {
   "cell_type": "markdown",
   "metadata": {},
   "source": [
    "# Functions for second phase\n",
    "\n",
    "You now have points mapped to centers. In particular, `new_p_to_c_map` is a list of center-ids *e.g., 1,2,3. The value of\n",
    "`new_p_to_c_map[0]` is the center-id that goes with point 0.\n",
    "\n",
    "Now we need to recompute mean for all k centers."
   ]
  },
  {
   "cell_type": "code",
   "execution_count": 46,
   "metadata": {},
   "outputs": [],
   "source": [
    "# your functions go here\n",
    "def recompute_centers(pool,clustermapping, items):\n",
    "    mymap = {}\n",
    "    for i,j in zip (new_p_to_c_map, batch.values()):\n",
    "        mymap.setdefault(i, []).append(j)\n",
    "    newCenters = {}\n",
    "    for i in mymap.keys():\n",
    "        newCenters[i] = map(lambda x: x/len(mymap.get(i)), reduce(lambda first, second : map(operator.add, first,second), mymap.get(i)))\n",
    "    return newCenters"
   ]
  },
  {
   "cell_type": "markdown",
   "metadata": {},
   "source": [
    "# Ready to start clustering\n",
    "\n",
    "Do set-up first. You can rerun some of these cells to try new experiments."
   ]
  },
  {
   "cell_type": "code",
   "execution_count": 47,
   "metadata": {},
   "outputs": [
    {
     "name": "stdout",
     "output_type": "stream",
     "text": [
      "Total cores available: 8\n",
      "Total cores used: 4\n"
     ]
    }
   ],
   "source": [
    "# number of workers\n",
    "processors = cpu_count()\n",
    "print(\"Total cores available: {}\".format(processors))\n",
    "\n",
    "#N = processors  # change this to experient with different times\n",
    "\n",
    "N = 4\n",
    "print(\"Total cores used: {}\".format(N))"
   ]
  },
  {
   "cell_type": "code",
   "execution_count": 48,
   "metadata": {},
   "outputs": [
    {
     "name": "stdout",
     "output_type": "stream",
     "text": [
      "Number of iterations: 50\n"
     ]
    }
   ],
   "source": [
    "iterations = 50\n",
    "print(\"Number of iterations: {}\".format(iterations))"
   ]
  },
  {
   "cell_type": "code",
   "execution_count": 49,
   "metadata": {},
   "outputs": [],
   "source": [
    "# Use this to reset before each new run\n",
    "p_to_c_map = [-1]*len(batch)  # -1 is not a center-id so changes on first iter will be maximum.\n",
    "C = initial_C  # reset C to starting center values"
   ]
  },
  {
   "cell_type": "markdown",
   "metadata": {},
   "source": [
    "# Main loop\n",
    "\n",
    "Will stop either after so many interations or when changes to `p_to_c_map` become 0, i.e., no points changed allegiance during the current iteration."
   ]
  },
  {
   "cell_type": "code",
   "execution_count": 50,
   "metadata": {
    "scrolled": false
   },
   "outputs": [
    {
     "name": "stdout",
     "output_type": "stream",
     "text": [
      "Starting iteration 0\n",
      "{1: [11.506257848472165, 5.915027208036835, 8.490581833403098, 0.004166429468396858, 1.8522394307241523], 2: [12.106736111111111, 4.895833333333333, 8.45138888888889, 0.140497619047619, 132.7123015873016], 3: [10.60104144527099, 5.207226354941551, 10.193411264612115, 0.8035047821466521, 762.230605738576]}\n",
      "Starting iteration 1\n",
      "{1: [11.517555292259084, 5.854265402843602, 8.505134281200633, 0.007313112164297006, 4.900473933649289], 2: [11.89265784114053, 4.832993890020367, 8.467413441955193, 0.1834835030549898, 173.5325865580448], 3: [10.711868932038836, 5.336165048543689, 10.370145631067961, 0.8604072815533979, 816.3118932038835]}\n",
      "Starting iteration 2\n",
      "{1: [11.557730627306274, 5.786715867158671, 8.498523985239853, 0.012332472324723252, 9.791512915129152], 2: [11.809824355971896, 4.7669789227166275, 8.40046838407494, 0.2225880562060889, 210.50936768149882], 3: [10.672583979328165, 5.443152454780361, 10.581395348837209, 0.8839302325581401, 838.6925064599483]}\n",
      "Starting iteration 3\n",
      "{1: [11.62287618379516, 5.760084180989127, 8.521922132585058, 0.016912276394247645, 14.228691687127323], 2: [11.520792349726777, 4.64344262295082, 8.252732240437158, 0.25344385245901646, 239.66803278688525], 3: [10.725271523178808, 5.490066225165563, 10.672847682119205, 0.8926296688741728, 846.9602649006622]}\n",
      "Starting iteration 4\n",
      "{1: [11.62663722826087, 5.743546195652174, 8.520040760869565, 0.020307880434782606, 17.50611413043478], 2: [11.486450617283952, 4.555555555555555, 8.24074074074074, 0.27627453703703725, 261.212962962963], 3: [10.717935656836461, 5.502680965147453, 10.68632707774799, 0.8965963806970518, 850.7426273458445]}\n",
      "Starting iteration 5\n",
      "{1: [11.639328010645375, 5.726879574184964, 8.528276779773785, 0.022773752495009836, 19.87890884896873], 2: [11.407092436974791, 4.512605042016807, 8.216806722689075, 0.29508638655462205, 278.9731092436975], 3: [10.709063772048847, 5.5169606512890095, 10.678426051560379, 0.900459837177749, 854.427408412483]}\n",
      "Starting iteration 6\n",
      "{1: [11.60879344262295, 5.710491803278688, 8.51967213114754, 0.02463442622950805, 21.668196721311475], 2: [11.55415770609319, 4.528673835125448, 8.258064516129032, 0.31007921146953404, 293.15232974910396], 3: [10.703534246575343, 5.50958904109589, 10.687671232876712, 0.9034438356164398, 857.2479452054795]}\n",
      "Starting iteration 7\n",
      "{1: [11.625143780290792, 5.6978998384491115, 8.519547657512117, 0.026630985460419903, 23.58610662358643], 2: [11.387272727272727, 4.497098646034816, 8.235976789168278, 0.3252493230174082, 307.45067698259186], 3: [10.744600550964186, 5.517906336088155, 10.701101928374655, 0.9050914600550979, 858.8250688705234]}\n",
      "Starting iteration 8\n",
      "{1: [11.6169024, 5.69056, 8.50944, 0.028007839999999878, 24.90912], 2: [11.337791164658633, 4.421686746987952, 8.26706827309237, 0.34097248995983936, 322.2670682730924], 3: [10.795216783216784, 5.567832167832168, 10.74965034965035, 0.9095725874125886, 863.1160839160839]}\n",
      "Starting iteration 9\n",
      "{1: [11.640158077774265, 5.678785962693645, 8.505216566550743, 0.02981732532405933, 26.645273474549477], 2: [11.136249999999999, 4.396551724137931, 8.27801724137931, 0.356677801724138, 337.07974137931035], 3: [10.805316455696202, 5.575246132208157, 10.762306610407876, 0.9111990154711688, 864.661040787623]}\n",
      "Starting iteration 10\n",
      "{1: [11.66619241617048, 5.6703227828267, 8.49451582575995, 0.031201754935756717, 27.97273581949232], 2: [10.878325791855202, 4.355203619909502, 8.294117647058824, 0.37109570135746617, 350.68552036199094], 3: [10.826354609929078, 5.598581560283688, 10.812765957446809, 0.913594468085108, 866.9418439716312]}\n",
      "Starting iteration 11\n",
      "{1: [11.679757763975156, 5.659316770186336, 8.486645962732918, 0.03267990683229804, 29.3888198757764], 2: [10.747541766109784, 4.3389021479713605, 8.346062052505967, 0.38710095465393807, 365.77326968973745], 3: [10.809127324749642, 5.61516452074392, 10.831187410586553, 0.915949356223178, 869.1945636623748]}\n",
      "Starting iteration 12\n",
      "{1: [11.686285537700865, 5.656674907292954, 8.47929542645241, 0.03352527812113711, 30.199320148331275], 2: [10.672909535452321, 4.308068459657702, 8.45965770171149, 0.398136185819071, 376.16870415647924], 3: [10.801702741702742, 5.626262626262626, 10.816738816738816, 0.9182506493506515, 871.3997113997114]}\n",
      "Starting iteration 13\n",
      "{1: [11.686635859519408, 5.654343807763401, 8.477202711028959, 0.034073043746149, 30.72365988909427], 2: [10.645862068965515, 4.266009852216749, 8.463054187192117, 0.40719729064039417, 384.7216748768473], 3: [10.80259475218659, 5.65597667638484, 10.848396501457726, 0.9209183673469412, 873.9533527696793]}\n",
      "Starting iteration 14\n",
      "{1: [11.68496462626884, 5.654875422946786, 8.477391571824054, 0.03435395262995991, 30.99292525376807], 2: [10.670521091811413, 4.2431761786600495, 8.459057071960297, 0.4108280397022333, 388.136476426799], 3: [10.788859649122807, 5.6608187134502925, 10.85672514619883, 0.9216736842105289, 874.6798245614035]}\n",
      "Starting iteration 15\n",
      "{1: [11.693646697388633, 5.653456221198157, 8.474961597542242, 0.03458193548387086, 31.210752688172043], 2: [10.565549999999998, 4.2375, 8.4775, 0.4133685, 390.54], 3: [10.803191800878476, 5.6647144948755495, 10.86090775988287, 0.9220521229868254, 875.0380673499268]}\n",
      "Starting iteration 16\n",
      "{1: [11.692394106813996, 5.653468385512585, 8.472068753836709, 0.03475368324125219, 31.37538367096378], 2: [10.567304785894205, 4.226700251889169, 8.501259445843829, 0.4148214105793451, 391.904282115869], 3: [10.803191800878476, 5.6647144948755495, 10.86090775988287, 0.9220521229868254, 875.0380673499268]}\n",
      "Starting iteration 17\n",
      "{1: [11.690931943592888, 5.652973635806254, 8.471796443899448, 0.03498384426732055, 31.595646842427957], 2: [10.56798982188295, 4.216284987277354, 8.50381679389313, 0.4167793893129771, 393.74554707379133], 3: [10.803191800878476, 5.6647144948755495, 10.86090775988287, 0.9220521229868254, 875.0380673499268]}\n",
      "Starting iteration 18\n",
      "{1: [11.696209430496019, 5.654623392529087, 8.472137170851195, 0.035214360073484274, 31.816595223515], 2: [10.512133676092544, 4.187660668380463, 8.501285347043702, 0.41876992287917736, 395.61439588688944], 3: [10.803191800878476, 5.6647144948755495, 10.86090775988287, 0.9220521229868254, 875.0380673499268]}\n",
      "Starting iteration 19\n",
      "{1: [11.690676047721016, 5.651269501376568, 8.474762924441725, 0.03538956867543581, 31.98286937901499], 2: [10.576795865633075, 4.196382428940568, 8.47545219638243, 0.42092480620155037, 397.64857881136953], 3: [10.788240469208212, 5.671554252199414, 10.866568914956012, 0.9224146627566007, 875.3900293255132]}\n",
      "Starting iteration 20\n",
      "{1: [11.695238386308068, 5.651283618581907, 8.474938875305623, 0.03556369193154024, 32.149755501222494], 2: [10.52921875, 4.184895833333333, 8.473958333333334, 0.42245312500000004, 399.0833333333333], 3: [10.788240469208212, 5.671554252199414, 10.866568914956012, 0.9224146627566007, 875.3900293255132]}\n",
      "Starting iteration 21\n",
      "{1: [11.6881893129771, 5.648854961832061, 8.474503816793893, 0.03573841221374036, 32.31725190839695], 2: [10.580629921259842, 4.194225721784777, 8.47769028871391, 0.4239976377952756, 400.5328083989501], 3: [10.788240469208212, 5.671554252199414, 10.866568914956012, 0.9224146627566007, 875.3900293255132]}\n",
      "Starting iteration 22\n",
      "{1: [11.692041501373208, 5.6466280134269144, 8.47268843454379, 0.03585602685382963, 32.429356118400975], 2: [10.541477572559366, 4.205804749340369, 8.493403693931398, 0.42502955145118737, 401.5065963060686], 3: [10.788240469208212, 5.671554252199414, 10.866568914956012, 0.9224146627566007, 875.3900293255132]}\n",
      "Starting iteration 23\n",
      "{1: [11.692041501373208, 5.6466280134269144, 8.47268843454379, 0.03585602685382963, 32.429356118400975], 2: [10.519, 4.197368421052632, 8.5, 0.4256952631578948, 402.12894736842105], 3: [10.801145374449339, 5.6784140969163, 10.866372980910425, 0.9227735682819407, 875.7386196769456]}\n",
      "Starting iteration 24\n",
      "{1: [11.69366076876144, 5.646125686394143, 8.4725442342892, 0.035915222696766225, 32.48566198901769], 2: [10.501899736147756, 4.197889182058048, 8.50131926121372, 0.4262118733509236, 402.61741424802113], 3: [10.801145374449339, 5.6784140969163, 10.866372980910425, 0.9227735682819407, 875.7386196769456]}\n",
      "Starting iteration 25\n",
      "{1: [11.69366076876144, 5.646125686394143, 8.4725442342892, 0.035915222696766225, 32.48566198901769], 2: [10.501899736147756, 4.197889182058048, 8.50131926121372, 0.4262118733509236, 402.61741424802113], 3: [10.801145374449339, 5.6784140969163, 10.866372980910425, 0.9227735682819407, 875.7386196769456]}\n",
      "Total time: 0.758272886276\n"
     ]
    }
   ],
   "source": [
    "# Start a pool of N workers\n",
    "pool = Pool(processes=N,\n",
    "            initializer=start_process,\n",
    "           )\n",
    "\n",
    "total_time = 0\n",
    "for i in range(iterations):\n",
    "    print(\"Starting iteration \" + str(i))\n",
    "    \n",
    "    # assign points to centers 2D\n",
    "    start = timer()\n",
    "\n",
    "    partial_compute = partial(compute_center, all_centers = C) #moved this inside loop b/c gets updated after each iteration\n",
    "    new_p_to_c_map = pool.map(partial_compute, batch.items())\n",
    "\n",
    "    end = timer()\n",
    "\n",
    "    t = end - start\n",
    "    total_time += t\n",
    "    #print( \"time of part 1: \" + str(t))\n",
    "    start = timer()\n",
    "    new_C = recompute_centers(pool,new_p_to_c_map, batch.values())  # compute new values of centers\n",
    "    print new_C\n",
    "    end = timer()\n",
    "    t = end - start\n",
    "    total_time += t\n",
    "    #print( \"time of part 2: \" + str(t))\n",
    "    iterdiff = []\n",
    "    for tup in zip(C.values(), new_C.values()):\n",
    "        #print(tup[0])\n",
    "        #print(tup[1])\n",
    "        diff = map( lambda pair : pair[0] == pair[1], zip(tup[0], tup[1]))\n",
    "        iterdiff.append(reduce( lambda a,b : a and b, diff));\n",
    "        #print(\"-----------\")\n",
    "    #print iterdiff\n",
    "    unchanged_centers = reduce( lambda a,b : a and b, iterdiff)  # hoping value is 0\n",
    "    #print('Changes: {}'.format(unchanged_centers))\n",
    "\n",
    "    C = new_C  # update centers with new values\n",
    "    p_to_c_map = new_p_to_c_map  #update map\n",
    "    \n",
    "    if unchanged_centers == True:\n",
    "          break  # last iteration caused no allegiance changes\n",
    "    \n",
    "pool.close() # no more tasks\n",
    "pool.join()  # wrap up current tasks\n",
    "print(\"Total time: \" + str(total_time))"
   ]
  },
  {
   "cell_type": "code",
   "execution_count": null,
   "metadata": {
    "collapsed": true
   },
   "outputs": [],
   "source": []
  }
 ],
 "metadata": {
  "kernelspec": {
   "display_name": "Python 2",
   "language": "python",
   "name": "python2"
  },
  "language_info": {
   "codemirror_mode": {
    "name": "ipython",
    "version": 2
   },
   "file_extension": ".py",
   "mimetype": "text/x-python",
   "name": "python",
   "nbconvert_exporter": "python",
   "pygments_lexer": "ipython2",
   "version": "2.7.12"
  }
 },
 "nbformat": 4,
 "nbformat_minor": 1
}
